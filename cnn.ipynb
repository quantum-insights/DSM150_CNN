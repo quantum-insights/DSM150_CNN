{
 "cells": [
  {
   "cell_type": "markdown",
   "source": [
    "# DSM150 - Neural Networks Coursework 2\n",
    "\n",
    "In the following coursework a Convolutional Neural Network is created in order to solve a multi-class classification problem. The report follows the apporach follows the book deeplearning with python. "
   ],
   "metadata": {
    "collapsed": false
   }
  },
  {
   "cell_type": "markdown",
   "source": [
    "## Approach\n",
    "\n",
    "1. Load Data\n",
    "2. Explorative Data Analysis\n",
    "3. Prepare Data\n",
    "4. Create Baseline Model\n",
    "5. Finetune Model\n",
    "6. Conclusion"
   ],
   "metadata": {
    "collapsed": false
   }
  },
  {
   "cell_type": "markdown",
   "source": [
    "# 1. Load the Data\n",
    "\n",
    "The used dateset was downloaded from Kaggel."
   ],
   "metadata": {
    "collapsed": false
   }
  },
  {
   "cell_type": "code",
   "execution_count": 1,
   "outputs": [],
   "source": [
    "# import external libs\n",
    "import  os\n",
    "import tensorflow as tf"
   ],
   "metadata": {
    "collapsed": false,
    "pycharm": {
     "is_executing": true
    },
    "ExecuteTime": {
     "end_time": "2024-03-12T19:15:52.941454Z",
     "start_time": "2024-03-12T19:15:51.120359Z"
    }
   }
  },
  {
   "cell_type": "code",
   "execution_count": 2,
   "outputs": [],
   "source": [
    "# define base directory where pictures stored\n",
    "data_dir= './data/animals'"
   ],
   "metadata": {
    "collapsed": false,
    "ExecuteTime": {
     "end_time": "2024-03-12T19:15:53.629656Z",
     "start_time": "2024-03-12T19:15:53.627849Z"
    }
   }
  },
  {
   "cell_type": "markdown",
   "source": [
    "# Explorative Data Analysis"
   ],
   "metadata": {
    "collapsed": false
   }
  },
  {
   "cell_type": "code",
   "outputs": [
    {
     "name": "stdout",
     "output_type": "stream",
     "text": [
      "Files in training directory:\n",
      "\tcat: 2737 pictures\n",
      "\tdog: 2627 pictures\n",
      "\thorse: 2705 pictures\n",
      "\tlion: 2675 pictures\n",
      "\telephant: 2730 pictures\n",
      "\n",
      "Files in validation directory:\n",
      "\tcat: 300 pictures\n",
      "\tdog: 300 pictures\n",
      "\thorse: 300 pictures\n",
      "\tlion: 298 pictures\n",
      "\telephant: 299 pictures\n"
     ]
    }
   ],
   "source": [
    "train_pictures= []\n",
    "val_pictures= []\n",
    "data= []\n",
    "\n",
    "train_dir= os.path.join(data_dir, 'train')\n",
    "val_dir= os.path.join(data_dir, 'val')\n",
    "\n",
    "print('Files in training directory:')\n",
    "for directory in os.listdir(train_dir):\n",
    "            counter= 0\n",
    "            for file in os.listdir(os.path.join(train_dir, directory)):\n",
    "                counter+=1\n",
    "            print(f'\\t{directory}: {counter} pictures')\n",
    "            data.append(('test', str(directory), counter))\n",
    "            \n",
    "            \n",
    "print('\\nFiles in validation directory:')\n",
    "for directory in os.listdir(val_dir):\n",
    "            counter= 0\n",
    "            for file in os.listdir(os.path.join(val_dir, directory)):\n",
    "                counter+=1\n",
    "            print(f'\\t{directory}: {counter} pictures')\n",
    "            data.append(('test', str(directory), counter))"
   ],
   "metadata": {
    "collapsed": false,
    "ExecuteTime": {
     "end_time": "2024-03-12T19:15:54.556744Z",
     "start_time": "2024-03-12T19:15:54.524101Z"
    }
   },
   "execution_count": 3
  },
  {
   "cell_type": "markdown",
   "source": [
    "The classes and corresponding picture seems to be balanced. Each of the five classes is represented within between 2'675 to 2'737 pictures."
   ],
   "metadata": {
    "collapsed": false
   }
  },
  {
   "cell_type": "markdown",
   "source": [
    "# Image Preprocessing"
   ],
   "metadata": {
    "collapsed": false
   }
  },
  {
   "cell_type": "code",
   "outputs": [
    {
     "name": "stdout",
     "output_type": "stream",
     "text": [
      "Found 13474 images belonging to 5 classes.\n"
     ]
    }
   ],
   "source": [
    "# import lib for Image Generator\n",
    "from keras.preprocessing.image import ImageDataGenerator\n",
    "\n",
    "# rescale images by 1/255\n",
    "train_datagen= ImageDataGenerator(rescale=1./255)\n",
    "val_datagen= ImageDataGenerator(rescale=1./255)\n",
    "\n",
    "# read img from target dirs, resize image to 150x150, \n",
    "train_generator= train_datagen.flow_from_directory(\n",
    "    train_dir,\n",
    "    target_size=(150,150),\n",
    "    batch_size=32,\n",
    "    class_mode='categorical',\n",
    "    shuffle= True\n",
    "    \n",
    ")\n"
   ],
   "metadata": {
    "collapsed": false,
    "ExecuteTime": {
     "end_time": "2024-03-12T19:15:56.075771Z",
     "start_time": "2024-03-12T19:15:55.760506Z"
    }
   },
   "execution_count": 4
  },
  {
   "cell_type": "code",
   "outputs": [
    {
     "name": "stdout",
     "output_type": "stream",
     "text": [
      "Found 1497 images belonging to 5 classes.\n"
     ]
    }
   ],
   "source": [
    "val_generator= val_datagen.flow_from_directory(\n",
    "    val_dir,\n",
    "    target_size=(150,150),\n",
    "    batch_size=32,\n",
    "    class_mode='categorical',\n",
    "    shuffle=True\n",
    ")"
   ],
   "metadata": {
    "collapsed": false,
    "ExecuteTime": {
     "end_time": "2024-03-12T19:15:56.213400Z",
     "start_time": "2024-03-12T19:15:56.175998Z"
    }
   },
   "execution_count": 5
  },
  {
   "cell_type": "code",
   "outputs": [
    {
     "name": "stdout",
     "output_type": "stream",
     "text": [
      "Data batch shape: (32, 150, 150, 3)\n",
      "Labels batch shape: (32, 5)\n"
     ]
    }
   ],
   "source": [
    "for data_batch, labels_batch in train_generator:\n",
    "    print('Data batch shape:', data_batch.shape)\n",
    "    print('Labels batch shape:', labels_batch.shape)\n",
    "    break"
   ],
   "metadata": {
    "collapsed": false,
    "ExecuteTime": {
     "end_time": "2024-03-12T19:15:56.620329Z",
     "start_time": "2024-03-12T19:15:56.552641Z"
    }
   },
   "execution_count": 6
  },
  {
   "cell_type": "code",
   "execution_count": 7,
   "outputs": [],
   "source": [
    "def generate_file_path_labels(base_dir):\n",
    "    categories= ['train', 'val']\n",
    "    train_file_paths_labels= []\n",
    "    val_file_paths_labels= []\n",
    "\n",
    "    for category in categories:\n",
    "\n",
    "        # define path to the basedir\n",
    "        base_dir= os.path.join(data_dir, category)\n",
    "\n",
    "        for animal_name in os.listdir(base_dir):\n",
    "            animal_dir=  os.path.join(base_dir, animal_name)\n",
    "            if os.path.isdir(animal_dir):\n",
    "                for file_name in os.listdir(animal_dir):\n",
    "                    file_path= os.path.join(animal_dir, file_name)\n",
    "\n",
    "                    if category == 'train':\n",
    "                        train_file_paths_labels.append((animal_name, file_path))\n",
    "                    if category == 'val':\n",
    "                        val_file_paths_labels.append((animal_name, file_path))\n",
    "\n",
    "\n",
    "\n",
    "    return train_file_paths_labels, val_file_paths_labels"
   ],
   "metadata": {
    "collapsed": false,
    "ExecuteTime": {
     "end_time": "2024-03-12T19:15:56.936918Z",
     "start_time": "2024-03-12T19:15:56.933369Z"
    }
   }
  },
  {
   "cell_type": "code",
   "execution_count": 8,
   "outputs": [],
   "source": [
    "data_dir= './data/animals'\n",
    "train_file_paths_labels, val_file_paths_labels= generate_file_path_labels(data_dir)"
   ],
   "metadata": {
    "collapsed": false,
    "ExecuteTime": {
     "end_time": "2024-03-12T19:15:57.311528Z",
     "start_time": "2024-03-12T19:15:57.295368Z"
    }
   }
  },
  {
   "cell_type": "code",
   "execution_count": 9,
   "outputs": [
    {
     "name": "stdout",
     "output_type": "stream",
     "text": [
      "[('cat', './data/animals/train/cat/cat1594.jpg'), ('cat', './data/animals/train/cat/cat108.jpg'), ('cat', './data/animals/train/cat/cat2089.jpg'), ('cat', './data/animals/train/cat/cat1580.jpg'), ('cat', './data/animals/train/cat/cat652.jpg'), ('cat', './data/animals/train/cat/cat134.jpg'), ('cat', './data/animals/train/cat/cat120.jpg'), ('cat', './data/animals/train/cat/cat646.jpg'), ('cat', './data/animals/train/cat/cat875.jpg'), ('cat', './data/animals/train/cat/cat1557.jpg')]\n",
      "[('cat', './data/animals/val/cat/cat108.jpg'), ('cat', './data/animals/val/cat/cat134.jpg'), ('cat', './data/animals/val/cat/cat120.jpg'), ('cat', './data/animals/val/cat/cat60.jpg'), ('cat', './data/animals/val/cat/cat74.jpg'), ('cat', './data/animals/val/cat/cat48.jpg'), ('cat', './data/animals/val/cat/cat242.jpg'), ('cat', './data/animals/val/cat/cat256.jpg'), ('cat', './data/animals/val/cat/cat281.jpg'), ('cat', './data/animals/val/cat/cat295.jpg')]\n"
     ]
    }
   ],
   "source": [
    "print(train_file_paths_labels[:10])\n",
    "print(val_file_paths_labels[:10])"
   ],
   "metadata": {
    "collapsed": false,
    "ExecuteTime": {
     "end_time": "2024-03-12T19:15:57.694353Z",
     "start_time": "2024-03-12T19:15:57.692525Z"
    }
   }
  },
  {
   "cell_type": "markdown",
   "source": [
    "The directory containing the dataset consists of three folders: 'inf' , 'train' and 'test'. Obviously the two of three folders holding trainings and test data. The test and trainings folder hold additional 5 subdirectory divided into animals name. The dir 'inf' holding 5 pictures on the next child level providing some informative representations of the animals used in this dataset."
   ],
   "metadata": {
    "collapsed": false
   }
  },
  {
   "cell_type": "markdown",
   "source": [
    "# 2. Create a Dataset of Images"
   ],
   "metadata": {
    "collapsed": false
   }
  },
  {
   "cell_type": "code",
   "execution_count": 10,
   "outputs": [],
   "source": [
    "#import tensorflow as tf"
   ],
   "metadata": {
    "collapsed": false,
    "pycharm": {
     "is_executing": true
    },
    "ExecuteTime": {
     "end_time": "2024-03-12T19:15:59.107772Z",
     "start_time": "2024-03-12T19:15:59.104777Z"
    }
   }
  },
  {
   "cell_type": "code",
   "execution_count": 11,
   "outputs": [],
   "source": [
    "def decode_image(img, img_height= 150, img_width= 150):\n",
    "    # convert the compressed string to a 3D uint8 tensort\n",
    "    img= tf.image.decode_jpeg(img, channels= 3)\n",
    "    # resize image to specific size\n",
    "    return tf.image.resize(img, [img_height, img_width])"
   ],
   "metadata": {
    "collapsed": false,
    "ExecuteTime": {
     "end_time": "2024-03-12T19:15:59.519134Z",
     "start_time": "2024-03-12T19:15:59.516767Z"
    }
   }
  },
  {
   "cell_type": "code",
   "execution_count": 12,
   "outputs": [],
   "source": [
    "def process_path(label, file_path):\n",
    "    # load raw data from the file as string\n",
    "    img= tf.io.read_file(file_path)\n",
    "    img= decode_image(img)\n",
    "    return img, label"
   ],
   "metadata": {
    "collapsed": false,
    "ExecuteTime": {
     "end_time": "2024-03-12T19:15:59.893440Z",
     "start_time": "2024-03-12T19:15:59.891479Z"
    }
   }
  },
  {
   "cell_type": "code",
   "execution_count": 13,
   "outputs": [],
   "source": [
    "def prepare_dataset(file_paths_labels, img_height= 150, img_width= 150, batch_size= 32):\n",
    "    # split labels and file paths into seperate lists\n",
    "    labels, file_paths= zip(*[(label, fp) for label, fp in file_paths_labels])\n",
    "    labels= list(labels)\n",
    "    file_paths= list(file_paths)\n",
    "\n",
    "    # create dataset of filepaths and labels\n",
    "    ds= tf.data.Dataset.from_tensor_slices((labels, file_paths))\n",
    "\n",
    "    # process file paths to load images, convert labels into one hot encoding\n",
    "    ds= ds.map(lambda y,x : process_path(tf.one_hot(y, depth= len(set(labels))), x))\n",
    "\n",
    "    # batch the data\n",
    "    ds= ds.batch(batch_size)\n",
    "\n",
    "    return ds"
   ],
   "metadata": {
    "collapsed": false,
    "ExecuteTime": {
     "end_time": "2024-03-12T19:16:00.253174Z",
     "start_time": "2024-03-12T19:16:00.250425Z"
    }
   }
  },
  {
   "cell_type": "code",
   "execution_count": 14,
   "outputs": [],
   "source": [
    "# mapping labels to an index\n",
    "label_to_index= {\n",
    "    'cat': 0,\n",
    "    'dog': 1,\n",
    "    'elephant': 2,\n",
    "    'horse': 3,\n",
    "    'lion': 4\n",
    "}"
   ],
   "metadata": {
    "collapsed": false,
    "ExecuteTime": {
     "end_time": "2024-03-12T19:16:00.674764Z",
     "start_time": "2024-03-12T19:16:00.672914Z"
    }
   }
  },
  {
   "cell_type": "code",
   "execution_count": 15,
   "outputs": [],
   "source": [
    "# convert labels to integers\n",
    "train_file_paths_labels= [(label_to_index[label], fp) for label, fp in train_file_paths_labels]\n",
    "val_file_paths_labels= [(label_to_index[label], fp) for label, fp in val_file_paths_labels]"
   ],
   "metadata": {
    "collapsed": false,
    "ExecuteTime": {
     "end_time": "2024-03-12T19:16:01.021585Z",
     "start_time": "2024-03-12T19:16:01.017974Z"
    }
   }
  },
  {
   "cell_type": "code",
   "execution_count": 16,
   "outputs": [],
   "source": [
    "# calling prepare dataset function\n",
    "train_dataset= prepare_dataset(train_file_paths_labels, img_height= 150, img_width= 150, batch_size=32)\n"
   ],
   "metadata": {
    "collapsed": false,
    "ExecuteTime": {
     "end_time": "2024-03-12T19:16:01.545528Z",
     "start_time": "2024-03-12T19:16:01.436709Z"
    }
   }
  },
  {
   "cell_type": "code",
   "outputs": [],
   "source": [
    "val_dataset= prepare_dataset(train_file_paths_labels, img_height= 150, img_width= 150, batch_size=32)"
   ],
   "metadata": {
    "collapsed": false,
    "ExecuteTime": {
     "end_time": "2024-03-12T19:16:02.117339Z",
     "start_time": "2024-03-12T19:16:02.091341Z"
    }
   },
   "execution_count": 17
  },
  {
   "cell_type": "code",
   "outputs": [
    {
     "name": "stdout",
     "output_type": "stream",
     "text": [
      "<_BatchDataset element_spec=(TensorSpec(shape=(None, 150, 150, 3), dtype=tf.float32, name=None), TensorSpec(shape=(None, 5), dtype=tf.float32, name=None))>\n"
     ]
    }
   ],
   "source": [
    "print(train_dataset)"
   ],
   "metadata": {
    "collapsed": false,
    "ExecuteTime": {
     "end_time": "2024-03-12T19:16:02.655156Z",
     "start_time": "2024-03-12T19:16:02.653409Z"
    }
   },
   "execution_count": 18
  },
  {
   "cell_type": "code",
   "outputs": [],
   "source": [
    "from keras import models,layers\n",
    "from tensorflow.keras.models import Sequential\n"
   ],
   "metadata": {
    "collapsed": false,
    "ExecuteTime": {
     "end_time": "2024-03-12T19:16:03.099351Z",
     "start_time": "2024-03-12T19:16:03.081393Z"
    }
   },
   "execution_count": 19
  },
  {
   "cell_type": "code",
   "outputs": [],
   "source": [
    "input_shape= (150, 150, 3)"
   ],
   "metadata": {
    "collapsed": false,
    "ExecuteTime": {
     "end_time": "2024-03-12T19:16:03.623886Z",
     "start_time": "2024-03-12T19:16:03.622292Z"
    }
   },
   "execution_count": 20
  },
  {
   "cell_type": "code",
   "outputs": [],
   "source": [
    "# intializing model\n",
    "model= models.Sequential()\n",
    "model.add(layers.Conv2D(16, (3,3), activation='relu', input_shape= input_shape))\n",
    "model.add(layers.MaxPooling2D((2,2)))\n",
    "model.add(layers.Conv2D(32, (3,3), activation= 'relu'))\n",
    "model.add(layers.MaxPooling2D((2,2)))\n",
    "model.add(layers.Conv2D(64, (3,3), activation= 'relu'))\n",
    "model.add(layers.MaxPooling2D((2,2)))\n",
    "model.add(layers.Flatten())\n",
    "model.add(layers.Dense(64, activation='relu'))\n",
    "model.add(layers.Dense(64, activation='relu'))\n",
    "model.add(layers.Dense(5, activation='softmax'))"
   ],
   "metadata": {
    "collapsed": false,
    "ExecuteTime": {
     "end_time": "2024-03-12T19:16:23.022152Z",
     "start_time": "2024-03-12T19:16:22.989192Z"
    }
   },
   "execution_count": 22
  },
  {
   "cell_type": "code",
   "outputs": [
    {
     "name": "stdout",
     "output_type": "stream",
     "text": [
      "Model: \"sequential_1\"\n",
      "_________________________________________________________________\n",
      " Layer (type)                Output Shape              Param #   \n",
      "=================================================================\n",
      " conv2d_3 (Conv2D)           (None, 148, 148, 16)      448       \n",
      "                                                                 \n",
      " max_pooling2d_3 (MaxPoolin  (None, 74, 74, 16)        0         \n",
      " g2D)                                                            \n",
      "                                                                 \n",
      " conv2d_4 (Conv2D)           (None, 72, 72, 32)        4640      \n",
      "                                                                 \n",
      " max_pooling2d_4 (MaxPoolin  (None, 36, 36, 32)        0         \n",
      " g2D)                                                            \n",
      "                                                                 \n",
      " conv2d_5 (Conv2D)           (None, 34, 34, 64)        18496     \n",
      "                                                                 \n",
      " max_pooling2d_5 (MaxPoolin  (None, 17, 17, 64)        0         \n",
      " g2D)                                                            \n",
      "                                                                 \n",
      " flatten_1 (Flatten)         (None, 18496)             0         \n",
      "                                                                 \n",
      " dense_3 (Dense)             (None, 64)                1183808   \n",
      "                                                                 \n",
      " dense_4 (Dense)             (None, 64)                4160      \n",
      "                                                                 \n",
      " dense_5 (Dense)             (None, 5)                 325       \n",
      "                                                                 \n",
      "=================================================================\n",
      "Total params: 1211877 (4.62 MB)\n",
      "Trainable params: 1211877 (4.62 MB)\n",
      "Non-trainable params: 0 (0.00 Byte)\n",
      "_________________________________________________________________\n"
     ]
    }
   ],
   "source": [
    "model.summary()"
   ],
   "metadata": {
    "collapsed": false,
    "ExecuteTime": {
     "end_time": "2024-03-12T19:16:23.407030Z",
     "start_time": "2024-03-12T19:16:23.399978Z"
    }
   },
   "execution_count": 23
  },
  {
   "cell_type": "code",
   "outputs": [],
   "source": [
    "model.compile(optimizer='adam', loss='categorical_crossentropy', metrics=['accuracy'])"
   ],
   "metadata": {
    "collapsed": false,
    "ExecuteTime": {
     "end_time": "2024-03-12T19:16:25.493326Z",
     "start_time": "2024-03-12T19:16:25.485638Z"
    }
   },
   "execution_count": 24
  },
  {
   "cell_type": "code",
   "outputs": [],
   "source": [
    "steps_per_epoch= len(train_generator) // 32\n",
    "validation_steps= len(val_generator) // 32"
   ],
   "metadata": {
    "collapsed": false,
    "ExecuteTime": {
     "end_time": "2024-03-12T19:16:26.104590Z",
     "start_time": "2024-03-12T19:16:26.102772Z"
    }
   },
   "execution_count": 25
  },
  {
   "cell_type": "code",
   "outputs": [
    {
     "data": {
      "text/plain": "422"
     },
     "execution_count": 26,
     "metadata": {},
     "output_type": "execute_result"
    }
   ],
   "source": [
    "len(train_generator)"
   ],
   "metadata": {
    "collapsed": false,
    "ExecuteTime": {
     "end_time": "2024-03-12T19:16:26.934820Z",
     "start_time": "2024-03-12T19:16:26.930062Z"
    }
   },
   "execution_count": 26
  },
  {
   "cell_type": "code",
   "outputs": [
    {
     "name": "stdout",
     "output_type": "stream",
     "text": [
      "Epoch 1/100\n",
      "13/13 [==============================] - 1s 70ms/step - loss: 1.6290 - accuracy: 0.2452 - val_loss: 1.5927 - val_accuracy: 0.1875\n",
      "Epoch 2/100\n",
      "13/13 [==============================] - 1s 66ms/step - loss: 1.5665 - accuracy: 0.2909 - val_loss: 1.5361 - val_accuracy: 0.2188\n",
      "Epoch 3/100\n",
      "13/13 [==============================] - 1s 59ms/step - loss: 1.4750 - accuracy: 0.3601 - val_loss: 1.5051 - val_accuracy: 0.3750\n",
      "Epoch 4/100\n",
      "13/13 [==============================] - 1s 69ms/step - loss: 1.3717 - accuracy: 0.4808 - val_loss: 1.3000 - val_accuracy: 0.5312\n",
      "Epoch 5/100\n",
      "13/13 [==============================] - 1s 72ms/step - loss: 1.2582 - accuracy: 0.5072 - val_loss: 1.3102 - val_accuracy: 0.5000\n",
      "Epoch 6/100\n",
      "13/13 [==============================] - 1s 69ms/step - loss: 1.1532 - accuracy: 0.5745 - val_loss: 1.0813 - val_accuracy: 0.5000\n",
      "Epoch 7/100\n",
      "13/13 [==============================] - 1s 67ms/step - loss: 1.1255 - accuracy: 0.5721 - val_loss: 1.1360 - val_accuracy: 0.5625\n",
      "Epoch 8/100\n",
      "13/13 [==============================] - 1s 70ms/step - loss: 1.0004 - accuracy: 0.6250 - val_loss: 1.1154 - val_accuracy: 0.5312\n",
      "Epoch 9/100\n",
      "13/13 [==============================] - 1s 61ms/step - loss: 0.9229 - accuracy: 0.6346 - val_loss: 0.9779 - val_accuracy: 0.5938\n",
      "Epoch 10/100\n",
      "13/13 [==============================] - 1s 64ms/step - loss: 1.0453 - accuracy: 0.6154 - val_loss: 0.9220 - val_accuracy: 0.6562\n",
      "Epoch 11/100\n",
      "13/13 [==============================] - 1s 87ms/step - loss: 0.9092 - accuracy: 0.6827 - val_loss: 0.8910 - val_accuracy: 0.6250\n",
      "Epoch 12/100\n",
      "13/13 [==============================] - 1s 61ms/step - loss: 0.8824 - accuracy: 0.6442 - val_loss: 0.8750 - val_accuracy: 0.7188\n",
      "Epoch 13/100\n",
      "13/13 [==============================] - 1s 69ms/step - loss: 0.9716 - accuracy: 0.6298 - val_loss: 0.8494 - val_accuracy: 0.6562\n",
      "Epoch 14/100\n",
      "13/13 [==============================] - 1s 90ms/step - loss: 0.8407 - accuracy: 0.6827 - val_loss: 0.7979 - val_accuracy: 0.7812\n",
      "Epoch 15/100\n",
      "13/13 [==============================] - 1s 59ms/step - loss: 0.9069 - accuracy: 0.6347 - val_loss: 0.7351 - val_accuracy: 0.7812\n",
      "Epoch 16/100\n",
      "13/13 [==============================] - 1s 62ms/step - loss: 0.8023 - accuracy: 0.7139 - val_loss: 0.6843 - val_accuracy: 0.7812\n",
      "Epoch 17/100\n",
      "13/13 [==============================] - 1s 71ms/step - loss: 0.7335 - accuracy: 0.7260 - val_loss: 0.7489 - val_accuracy: 0.6562\n",
      "Epoch 18/100\n",
      "13/13 [==============================] - 1s 65ms/step - loss: 0.7004 - accuracy: 0.7260 - val_loss: 0.8352 - val_accuracy: 0.5312\n",
      "Epoch 19/100\n",
      "13/13 [==============================] - 1s 65ms/step - loss: 0.7224 - accuracy: 0.6995 - val_loss: 0.6728 - val_accuracy: 0.7500\n",
      "Epoch 20/100\n",
      "13/13 [==============================] - 1s 64ms/step - loss: 0.6606 - accuracy: 0.7500 - val_loss: 0.8227 - val_accuracy: 0.5938\n",
      "Epoch 21/100\n",
      "13/13 [==============================] - 1s 68ms/step - loss: 0.7144 - accuracy: 0.7188 - val_loss: 0.5066 - val_accuracy: 0.8438\n",
      "Epoch 22/100\n",
      "13/13 [==============================] - 1s 73ms/step - loss: 0.6795 - accuracy: 0.7428 - val_loss: 0.7877 - val_accuracy: 0.6250\n",
      "Epoch 23/100\n",
      "13/13 [==============================] - 1s 62ms/step - loss: 0.7798 - accuracy: 0.7228 - val_loss: 0.6962 - val_accuracy: 0.6250\n",
      "Epoch 24/100\n",
      "13/13 [==============================] - 1s 63ms/step - loss: 0.6945 - accuracy: 0.7500 - val_loss: 0.8429 - val_accuracy: 0.5938\n",
      "Epoch 25/100\n",
      "13/13 [==============================] - 1s 65ms/step - loss: 0.6684 - accuracy: 0.7716 - val_loss: 0.5614 - val_accuracy: 0.8125\n",
      "Epoch 26/100\n",
      "13/13 [==============================] - 1s 63ms/step - loss: 0.6779 - accuracy: 0.7380 - val_loss: 0.8680 - val_accuracy: 0.5938\n",
      "Epoch 27/100\n",
      "13/13 [==============================] - 1s 65ms/step - loss: 0.6995 - accuracy: 0.7260 - val_loss: 0.9371 - val_accuracy: 0.5625\n",
      "Epoch 28/100\n",
      "13/13 [==============================] - 1s 64ms/step - loss: 0.6279 - accuracy: 0.7548 - val_loss: 1.0154 - val_accuracy: 0.5625\n",
      "Epoch 29/100\n",
      "13/13 [==============================] - 1s 64ms/step - loss: 0.5923 - accuracy: 0.7909 - val_loss: 0.5081 - val_accuracy: 0.7500\n",
      "Epoch 30/100\n",
      "13/13 [==============================] - 1s 69ms/step - loss: 0.5651 - accuracy: 0.7692 - val_loss: 0.5558 - val_accuracy: 0.8125\n",
      "Epoch 31/100\n",
      "13/13 [==============================] - 1s 66ms/step - loss: 0.5931 - accuracy: 0.7861 - val_loss: 0.5447 - val_accuracy: 0.7188\n",
      "Epoch 32/100\n",
      "13/13 [==============================] - 1s 67ms/step - loss: 0.5748 - accuracy: 0.7861 - val_loss: 0.5750 - val_accuracy: 0.7188\n",
      "Epoch 33/100\n",
      "13/13 [==============================] - 1s 69ms/step - loss: 0.5106 - accuracy: 0.7798 - val_loss: 0.5314 - val_accuracy: 0.8438\n",
      "Epoch 34/100\n",
      "13/13 [==============================] - 1s 71ms/step - loss: 0.6256 - accuracy: 0.7692 - val_loss: 0.6576 - val_accuracy: 0.6875\n",
      "Epoch 35/100\n",
      "13/13 [==============================] - 1s 66ms/step - loss: 0.6119 - accuracy: 0.7764 - val_loss: 0.7729 - val_accuracy: 0.6562\n",
      "Epoch 36/100\n",
      "13/13 [==============================] - 1s 76ms/step - loss: 0.5958 - accuracy: 0.7692 - val_loss: 0.5207 - val_accuracy: 0.8438\n",
      "Epoch 37/100\n",
      "13/13 [==============================] - 1s 69ms/step - loss: 0.5809 - accuracy: 0.7885 - val_loss: 0.5939 - val_accuracy: 0.7500\n",
      "Epoch 38/100\n",
      "13/13 [==============================] - 1s 66ms/step - loss: 0.6106 - accuracy: 0.7644 - val_loss: 0.7128 - val_accuracy: 0.7812\n",
      "Epoch 39/100\n",
      "13/13 [==============================] - 1s 66ms/step - loss: 0.5648 - accuracy: 0.7837 - val_loss: 0.5106 - val_accuracy: 0.8438\n",
      "Epoch 40/100\n",
      "13/13 [==============================] - 1s 71ms/step - loss: 0.5749 - accuracy: 0.7837 - val_loss: 0.4780 - val_accuracy: 0.8125\n",
      "Epoch 41/100\n",
      "13/13 [==============================] - 1s 73ms/step - loss: 0.5598 - accuracy: 0.7740 - val_loss: 0.5017 - val_accuracy: 0.8125\n",
      "Epoch 42/100\n",
      "13/13 [==============================] - 1s 74ms/step - loss: 0.5250 - accuracy: 0.7788 - val_loss: 0.6152 - val_accuracy: 0.7812\n",
      "Epoch 43/100\n",
      "13/13 [==============================] - 1s 64ms/step - loss: 0.6562 - accuracy: 0.7383 - val_loss: 0.5761 - val_accuracy: 0.7812\n",
      "Epoch 44/100\n",
      "13/13 [==============================] - 1s 67ms/step - loss: 0.5610 - accuracy: 0.8005 - val_loss: 0.4954 - val_accuracy: 0.9062\n",
      "Epoch 45/100\n",
      "13/13 [==============================] - 1s 68ms/step - loss: 0.5285 - accuracy: 0.8029 - val_loss: 0.5933 - val_accuracy: 0.7188\n",
      "Epoch 46/100\n",
      "13/13 [==============================] - 1s 85ms/step - loss: 0.5091 - accuracy: 0.8101 - val_loss: 0.5039 - val_accuracy: 0.8125\n",
      "Epoch 47/100\n",
      "13/13 [==============================] - 1s 63ms/step - loss: 0.5312 - accuracy: 0.7909 - val_loss: 0.5455 - val_accuracy: 0.7812\n",
      "Epoch 48/100\n",
      "13/13 [==============================] - 1s 65ms/step - loss: 0.4619 - accuracy: 0.8269 - val_loss: 0.5401 - val_accuracy: 0.7188\n",
      "Epoch 49/100\n",
      "13/13 [==============================] - 1s 82ms/step - loss: 0.4202 - accuracy: 0.8245 - val_loss: 0.4082 - val_accuracy: 0.7500\n",
      "Epoch 50/100\n",
      "13/13 [==============================] - 1s 64ms/step - loss: 0.4530 - accuracy: 0.8341 - val_loss: 0.4184 - val_accuracy: 0.8125\n",
      "Epoch 51/100\n",
      "13/13 [==============================] - 1s 66ms/step - loss: 0.4483 - accuracy: 0.8245 - val_loss: 0.4690 - val_accuracy: 0.8125\n",
      "Epoch 52/100\n",
      "13/13 [==============================] - 1s 68ms/step - loss: 0.4716 - accuracy: 0.8125 - val_loss: 0.6235 - val_accuracy: 0.7812\n",
      "Epoch 53/100\n",
      "13/13 [==============================] - 1s 66ms/step - loss: 0.5153 - accuracy: 0.7764 - val_loss: 0.3188 - val_accuracy: 0.9062\n",
      "Epoch 54/100\n",
      "13/13 [==============================] - 1s 65ms/step - loss: 0.5047 - accuracy: 0.7885 - val_loss: 0.4428 - val_accuracy: 0.8750\n",
      "Epoch 55/100\n",
      "13/13 [==============================] - 1s 68ms/step - loss: 0.4406 - accuracy: 0.8269 - val_loss: 0.7259 - val_accuracy: 0.6875\n",
      "Epoch 56/100\n",
      "13/13 [==============================] - 1s 64ms/step - loss: 0.4509 - accuracy: 0.8389 - val_loss: 0.4580 - val_accuracy: 0.8125\n",
      "Epoch 57/100\n",
      "13/13 [==============================] - 1s 69ms/step - loss: 0.4483 - accuracy: 0.8413 - val_loss: 0.4692 - val_accuracy: 0.8438\n",
      "Epoch 58/100\n",
      "13/13 [==============================] - 1s 68ms/step - loss: 0.4789 - accuracy: 0.8077 - val_loss: 0.3057 - val_accuracy: 0.8750\n",
      "Epoch 59/100\n",
      "13/13 [==============================] - 1s 64ms/step - loss: 0.4701 - accuracy: 0.8053 - val_loss: 0.7299 - val_accuracy: 0.7188\n",
      "Epoch 60/100\n",
      "13/13 [==============================] - 1s 70ms/step - loss: 0.4597 - accuracy: 0.8365 - val_loss: 0.5337 - val_accuracy: 0.7812\n",
      "Epoch 61/100\n",
      "13/13 [==============================] - 1s 79ms/step - loss: 0.4457 - accuracy: 0.8365 - val_loss: 0.4287 - val_accuracy: 0.8438\n",
      "Epoch 62/100\n",
      "13/13 [==============================] - 1s 71ms/step - loss: 0.4125 - accuracy: 0.8462 - val_loss: 0.7848 - val_accuracy: 0.8125\n",
      "Epoch 63/100\n",
      "13/13 [==============================] - 1s 76ms/step - loss: 0.4094 - accuracy: 0.8365 - val_loss: 0.3264 - val_accuracy: 0.9062\n",
      "Epoch 64/100\n",
      "13/13 [==============================] - 1s 68ms/step - loss: 0.4083 - accuracy: 0.8197 - val_loss: 0.5750 - val_accuracy: 0.8125\n",
      "Epoch 65/100\n",
      "13/13 [==============================] - 1s 71ms/step - loss: 0.4246 - accuracy: 0.8510 - val_loss: 0.3560 - val_accuracy: 0.8438\n",
      "Epoch 66/100\n",
      "13/13 [==============================] - 1s 65ms/step - loss: 0.4979 - accuracy: 0.7812 - val_loss: 0.7938 - val_accuracy: 0.6562\n",
      "Epoch 67/100\n",
      "13/13 [==============================] - 1s 74ms/step - loss: 0.3833 - accuracy: 0.8630 - val_loss: 0.6363 - val_accuracy: 0.6875\n",
      "Epoch 68/100\n",
      "13/13 [==============================] - 1s 72ms/step - loss: 0.5164 - accuracy: 0.7885 - val_loss: 0.4684 - val_accuracy: 0.8438\n",
      "Epoch 69/100\n",
      "13/13 [==============================] - 1s 73ms/step - loss: 0.4488 - accuracy: 0.8125 - val_loss: 0.4479 - val_accuracy: 0.8438\n",
      "Epoch 70/100\n",
      "13/13 [==============================] - 1s 88ms/step - loss: 0.3941 - accuracy: 0.8534 - val_loss: 0.6951 - val_accuracy: 0.8438\n",
      "Epoch 71/100\n",
      "13/13 [==============================] - 1s 80ms/step - loss: 0.4064 - accuracy: 0.8486 - val_loss: 0.3812 - val_accuracy: 0.8125\n",
      "Epoch 72/100\n",
      "13/13 [==============================] - 1s 76ms/step - loss: 0.4377 - accuracy: 0.8389 - val_loss: 0.6108 - val_accuracy: 0.7812\n",
      "Epoch 73/100\n",
      "13/13 [==============================] - 1s 76ms/step - loss: 0.3654 - accuracy: 0.8750 - val_loss: 0.4851 - val_accuracy: 0.8125\n",
      "Epoch 74/100\n",
      "13/13 [==============================] - 1s 85ms/step - loss: 0.3841 - accuracy: 0.8582 - val_loss: 0.3527 - val_accuracy: 0.9062\n",
      "Epoch 75/100\n",
      "13/13 [==============================] - 1s 75ms/step - loss: 0.4029 - accuracy: 0.8365 - val_loss: 0.7327 - val_accuracy: 0.7500\n",
      "Epoch 76/100\n",
      "13/13 [==============================] - 1s 80ms/step - loss: 0.4329 - accuracy: 0.8341 - val_loss: 0.1948 - val_accuracy: 0.9375\n",
      "Epoch 77/100\n",
      "13/13 [==============================] - 1s 68ms/step - loss: 0.4437 - accuracy: 0.8197 - val_loss: 0.3406 - val_accuracy: 0.8438\n",
      "Epoch 78/100\n",
      "13/13 [==============================] - 1s 74ms/step - loss: 0.4376 - accuracy: 0.8365 - val_loss: 0.4829 - val_accuracy: 0.8438\n",
      "Epoch 79/100\n",
      "13/13 [==============================] - 1s 77ms/step - loss: 0.4128 - accuracy: 0.8389 - val_loss: 0.6287 - val_accuracy: 0.7812\n",
      "Epoch 80/100\n",
      "13/13 [==============================] - 1s 71ms/step - loss: 0.3503 - accuracy: 0.8798 - val_loss: 0.8402 - val_accuracy: 0.7188\n",
      "Epoch 81/100\n",
      "13/13 [==============================] - 1s 79ms/step - loss: 0.4110 - accuracy: 0.8606 - val_loss: 0.5650 - val_accuracy: 0.8125\n",
      "Epoch 82/100\n",
      "13/13 [==============================] - 1s 65ms/step - loss: 0.3235 - accuracy: 0.8846 - val_loss: 0.5289 - val_accuracy: 0.8438\n",
      "Epoch 83/100\n",
      "13/13 [==============================] - 1s 99ms/step - loss: 0.3448 - accuracy: 0.8702 - val_loss: 0.4013 - val_accuracy: 0.8438\n",
      "Epoch 84/100\n",
      "13/13 [==============================] - 1s 69ms/step - loss: 0.4536 - accuracy: 0.8438 - val_loss: 0.3657 - val_accuracy: 0.8438\n",
      "Epoch 85/100\n",
      "13/13 [==============================] - 1s 66ms/step - loss: 0.3752 - accuracy: 0.8846 - val_loss: 0.2902 - val_accuracy: 0.9062\n",
      "Epoch 86/100\n",
      "13/13 [==============================] - 1s 67ms/step - loss: 0.4072 - accuracy: 0.8438 - val_loss: 0.2615 - val_accuracy: 0.8750\n",
      "Epoch 87/100\n",
      "13/13 [==============================] - 1s 67ms/step - loss: 0.3444 - accuracy: 0.8774 - val_loss: 0.6150 - val_accuracy: 0.8125\n",
      "Epoch 88/100\n",
      "13/13 [==============================] - 1s 73ms/step - loss: 0.3088 - accuracy: 0.8942 - val_loss: 0.5711 - val_accuracy: 0.8438\n",
      "Epoch 89/100\n",
      "13/13 [==============================] - 1s 68ms/step - loss: 0.3305 - accuracy: 0.8726 - val_loss: 0.7481 - val_accuracy: 0.7812\n",
      "Epoch 90/100\n",
      "13/13 [==============================] - 1s 71ms/step - loss: 0.3723 - accuracy: 0.8510 - val_loss: 0.3420 - val_accuracy: 0.9062\n",
      "Epoch 91/100\n",
      "13/13 [==============================] - 1s 68ms/step - loss: 0.4197 - accuracy: 0.8654 - val_loss: 0.5837 - val_accuracy: 0.6875\n",
      "Epoch 92/100\n",
      "13/13 [==============================] - 1s 65ms/step - loss: 0.3732 - accuracy: 0.8606 - val_loss: 0.4212 - val_accuracy: 0.8438\n",
      "Epoch 93/100\n",
      "13/13 [==============================] - 1s 83ms/step - loss: 0.3847 - accuracy: 0.8558 - val_loss: 0.5992 - val_accuracy: 0.7812\n",
      "Epoch 94/100\n",
      "13/13 [==============================] - 1s 77ms/step - loss: 0.3695 - accuracy: 0.8558 - val_loss: 0.4770 - val_accuracy: 0.8438\n",
      "Epoch 95/100\n",
      "13/13 [==============================] - 1s 69ms/step - loss: 0.2932 - accuracy: 0.9014 - val_loss: 0.4489 - val_accuracy: 0.8750\n",
      "Epoch 96/100\n",
      "13/13 [==============================] - 1s 73ms/step - loss: 0.3947 - accuracy: 0.8654 - val_loss: 0.5871 - val_accuracy: 0.7812\n",
      "Epoch 97/100\n",
      "13/13 [==============================] - 1s 72ms/step - loss: 0.3599 - accuracy: 0.8750 - val_loss: 0.5170 - val_accuracy: 0.7812\n",
      "Epoch 98/100\n",
      "13/13 [==============================] - 1s 67ms/step - loss: 0.3222 - accuracy: 0.8678 - val_loss: 0.3799 - val_accuracy: 0.8438\n",
      "Epoch 99/100\n",
      "13/13 [==============================] - 1s 70ms/step - loss: 0.2994 - accuracy: 0.8918 - val_loss: 0.5840 - val_accuracy: 0.7500\n",
      "Epoch 100/100\n",
      "13/13 [==============================] - 1s 72ms/step - loss: 0.3139 - accuracy: 0.8822 - val_loss: 0.9307 - val_accuracy: 0.8125\n"
     ]
    }
   ],
   "source": [
    "history= model.fit(\n",
    "    train_generator,\n",
    "    steps_per_epoch=steps_per_epoch,\n",
    "    epochs= 100,\n",
    "    validation_data= val_generator,\n",
    "    validation_steps= validation_steps\n",
    ")"
   ],
   "metadata": {
    "collapsed": false,
    "ExecuteTime": {
     "end_time": "2024-03-12T19:18:03.863026Z",
     "start_time": "2024-03-12T19:16:27.542298Z"
    }
   },
   "execution_count": 27
  },
  {
   "cell_type": "code",
   "outputs": [
    {
     "data": {
      "text/plain": "<Figure size 640x480 with 1 Axes>",
      "image/png": "[encoded data removed]"
     },
     "metadata": {},
     "output_type": "display_data"
    },
    {
     "data": {
      "text/plain": "<Figure size 640x480 with 1 Axes>",
      "image/png": "[encoded data removed]"
     },
     "metadata": {},
     "output_type": "display_data"
    }
   ],
   "source": [
    "import matplotlib.pyplot as plt\n",
    "\n",
    "acc= history.history['accuracy']\n",
    "val_acc= history.history['val_accuracy']\n",
    "loss= history.history['loss']\n",
    "val_loss= history.history['val_loss']\n",
    "\n",
    "epochs = range(1, len(acc) + 1)\n",
    "\n",
    "plt.plot(epochs, acc, 'bo', label='Training acc')\n",
    "plt.plot(epochs, val_acc, 'b', label='Validation acc')\n",
    "plt.title('Training and validation accuracy')\n",
    "plt.legend()\n",
    "\n",
    "plt.figure()\n",
    "\n",
    "plt.plot(epochs, loss, 'bo', label='Training loss')\n",
    "plt.plot(epochs, val_loss, 'b', label='Validation loss')\n",
    "plt.title('Training and validation loss')\n",
    "plt.legend()\n",
    "\n",
    "plt.show()"
   ],
   "metadata": {
    "collapsed": false,
    "ExecuteTime": {
     "end_time": "2024-03-12T19:18:06.079628Z",
     "start_time": "2024-03-12T19:18:05.658371Z"
    }
   },
   "execution_count": 28
  },
  {
   "cell_type": "markdown",
   "source": [
    "# Applying Data Augmentation"
   ],
   "metadata": {
    "collapsed": false
   }
  },
  {
   "cell_type": "code",
   "outputs": [],
   "source": [
    "train_aug_img_data_gen= ImageDataGenerator(\n",
    "    rescale= 1./255,\n",
    "    rotation_range=40,\n",
    "    width_shift_range=0.2,\n",
    "    height_shift_range= 0.2,\n",
    "    shear_range=0.2,\n",
    "    zoom_range= 0.2,\n",
    "    horizontal_flip= True,\n",
    "    fill_mode='nearest'\n",
    ")"
   ],
   "metadata": {
    "collapsed": false,
    "ExecuteTime": {
     "end_time": "2024-03-12T20:33:43.966615Z",
     "start_time": "2024-03-12T20:33:43.963871Z"
    }
   },
   "execution_count": 42
  },
  {
   "cell_type": "code",
   "outputs": [],
   "source": [
    "val_aug_img_data_gen= ImageDataGenerator(\n",
    "    rescale= 1./255,\n",
    "    rotation_range=40,\n",
    "    width_shift_range=0.2,\n",
    "    height_shift_range= 0.2,\n",
    "    shear_range=0.2,\n",
    "    zoom_range= 0.2,\n",
    "    horizontal_flip= True,\n",
    "    fill_mode='nearest'\n",
    ")"
   ],
   "metadata": {
    "collapsed": false,
    "ExecuteTime": {
     "end_time": "2024-03-12T20:33:44.378343Z",
     "start_time": "2024-03-12T20:33:44.376433Z"
    }
   },
   "execution_count": 43
  },
  {
   "cell_type": "code",
   "outputs": [
    {
     "name": "stdout",
     "output_type": "stream",
     "text": [
      "Found 13474 images belonging to 5 classes.\n"
     ]
    }
   ],
   "source": [
    "train_aug_generator= train_aug_img_data_gen.flow_from_directory(\n",
    "    train_dir,\n",
    "    target_size=(150,150),\n",
    "    batch_size=32,\n",
    "    class_mode='categorical',\n",
    "    shuffle= True\n",
    ")"
   ],
   "metadata": {
    "collapsed": false,
    "ExecuteTime": {
     "end_time": "2024-03-12T20:33:45.142881Z",
     "start_time": "2024-03-12T20:33:44.820997Z"
    }
   },
   "execution_count": 44
  },
  {
   "cell_type": "code",
   "outputs": [
    {
     "name": "stdout",
     "output_type": "stream",
     "text": [
      "Found 1497 images belonging to 5 classes.\n"
     ]
    }
   ],
   "source": [
    "val_aug_generator= val_aug_img_data_gen.flow_from_directory(\n",
    "    val_dir,\n",
    "    target_size=(150,150),\n",
    "    batch_size=32,\n",
    "    class_mode='categorical',\n",
    "    shuffle= True\n",
    ")"
   ],
   "metadata": {
    "collapsed": false,
    "ExecuteTime": {
     "end_time": "2024-03-12T20:33:55.494441Z",
     "start_time": "2024-03-12T20:33:55.461319Z"
    }
   },
   "execution_count": 46
  },
  {
   "cell_type": "code",
   "outputs": [],
   "source": [
    "# intializing model\n",
    "model_do= models.Sequential()\n",
    "model_do.add(layers.Conv2D(16, (3,3), activation='relu', input_shape= input_shape))\n",
    "model_do.add(layers.MaxPooling2D((2,2)))\n",
    "model_do.add(layers.Conv2D(32, (3,3), activation= 'relu'))\n",
    "model_do.add(layers.MaxPooling2D((2,2)))\n",
    "model_do.add(layers.Conv2D(64, (3,3), activation= 'relu'))\n",
    "model_do.add(layers.MaxPooling2D((2,2)))\n",
    "model_do.add(layers.Conv2D(128, (3,3), activation= 'relu'))\n",
    "model_do.add(layers.MaxPooling2D((2,2)))\n",
    "model_do.add(layers.Flatten())\n",
    "model_do.add(layers.Dropout(0.5))\n",
    "model_do.add(layers.Dense(128, activation='relu'))\n",
    "model_do.add(layers.Dense(5, activation='softmax'))"
   ],
   "metadata": {
    "collapsed": false,
    "ExecuteTime": {
     "end_time": "2024-03-12T20:43:38.827734Z",
     "start_time": "2024-03-12T20:43:38.800633Z"
    }
   },
   "execution_count": 57
  },
  {
   "cell_type": "code",
   "outputs": [],
   "source": [
    "#model_do.compile(optimizer='adam', loss='categorical_crossentropy', metrics=['accuracy'])\n",
    "model_do.compile(optimizer='SGD', loss='categorical_crossentropy', metrics=['accuracy'])"
   ],
   "metadata": {
    "collapsed": false,
    "ExecuteTime": {
     "end_time": "2024-03-12T20:52:49.764458Z",
     "start_time": "2024-03-12T20:52:49.759457Z"
    }
   },
   "execution_count": 63
  },
  {
   "cell_type": "code",
   "outputs": [
    {
     "name": "stdout",
     "output_type": "stream",
     "text": [
      "Epoch 1/100\n",
      "13/13 [==============================] - 1s 89ms/step - loss: 0.4149 - accuracy: 0.8173 - val_loss: 0.6284 - val_accuracy: 0.7812\n",
      "Epoch 2/100\n",
      "13/13 [==============================] - 1s 80ms/step - loss: 0.7066 - accuracy: 0.7740 - val_loss: 0.5253 - val_accuracy: 0.8750\n",
      "Epoch 3/100\n",
      "13/13 [==============================] - 1s 71ms/step - loss: 1.1239 - accuracy: 0.6538 - val_loss: 0.3762 - val_accuracy: 0.8438\n",
      "Epoch 4/100\n",
      "13/13 [==============================] - 1s 74ms/step - loss: 0.5497 - accuracy: 0.7740 - val_loss: 0.4489 - val_accuracy: 0.8125\n",
      "Epoch 5/100\n",
      "13/13 [==============================] - 1s 70ms/step - loss: 0.3644 - accuracy: 0.8413 - val_loss: 0.3346 - val_accuracy: 0.8750\n",
      "Epoch 6/100\n",
      "13/13 [==============================] - 1s 77ms/step - loss: 0.4322 - accuracy: 0.8394 - val_loss: 0.3150 - val_accuracy: 0.8750\n",
      "Epoch 7/100\n",
      "13/13 [==============================] - 1s 76ms/step - loss: 0.3416 - accuracy: 0.8606 - val_loss: 0.3353 - val_accuracy: 0.8125\n",
      "Epoch 8/100\n",
      "13/13 [==============================] - 1s 89ms/step - loss: 0.3308 - accuracy: 0.8678 - val_loss: 0.5212 - val_accuracy: 0.8438\n",
      "Epoch 9/100\n",
      "13/13 [==============================] - 1s 70ms/step - loss: 0.3803 - accuracy: 0.8486 - val_loss: 0.4556 - val_accuracy: 0.8438\n",
      "Epoch 10/100\n",
      "13/13 [==============================] - 1s 82ms/step - loss: 0.3697 - accuracy: 0.8702 - val_loss: 0.3329 - val_accuracy: 0.8750\n",
      "Epoch 11/100\n",
      "13/13 [==============================] - 1s 71ms/step - loss: 0.3480 - accuracy: 0.8606 - val_loss: 0.1177 - val_accuracy: 0.9688\n",
      "Epoch 12/100\n",
      "13/13 [==============================] - 1s 74ms/step - loss: 0.3844 - accuracy: 0.8582 - val_loss: 0.5471 - val_accuracy: 0.7500\n",
      "Epoch 13/100\n",
      "13/13 [==============================] - 1s 78ms/step - loss: 0.3737 - accuracy: 0.8438 - val_loss: 0.4031 - val_accuracy: 0.8750\n",
      "Epoch 14/100\n",
      "13/13 [==============================] - 1s 70ms/step - loss: 0.2839 - accuracy: 0.8774 - val_loss: 0.3817 - val_accuracy: 0.8750\n",
      "Epoch 15/100\n",
      "13/13 [==============================] - 1s 76ms/step - loss: 0.2851 - accuracy: 0.9038 - val_loss: 0.5111 - val_accuracy: 0.7500\n",
      "Epoch 16/100\n",
      "13/13 [==============================] - 1s 71ms/step - loss: 0.3373 - accuracy: 0.8654 - val_loss: 0.4657 - val_accuracy: 0.8125\n",
      "Epoch 17/100\n",
      "13/13 [==============================] - 1s 70ms/step - loss: 0.3718 - accuracy: 0.8558 - val_loss: 0.1507 - val_accuracy: 0.9688\n",
      "Epoch 18/100\n",
      "13/13 [==============================] - 1s 71ms/step - loss: 0.3767 - accuracy: 0.8630 - val_loss: 0.4500 - val_accuracy: 0.8750\n",
      "Epoch 19/100\n",
      "13/13 [==============================] - 1s 81ms/step - loss: 0.3386 - accuracy: 0.8558 - val_loss: 0.1758 - val_accuracy: 0.9375\n",
      "Epoch 20/100\n",
      "13/13 [==============================] - 1s 77ms/step - loss: 0.2226 - accuracy: 0.9183 - val_loss: 0.2769 - val_accuracy: 0.8750\n",
      "Epoch 21/100\n",
      "13/13 [==============================] - 1s 85ms/step - loss: 0.4009 - accuracy: 0.8678 - val_loss: 0.2308 - val_accuracy: 0.9062\n",
      "Epoch 22/100\n",
      "13/13 [==============================] - 1s 76ms/step - loss: 0.2804 - accuracy: 0.8990 - val_loss: 0.4024 - val_accuracy: 0.8438\n",
      "Epoch 23/100\n",
      "13/13 [==============================] - 1s 70ms/step - loss: 0.3118 - accuracy: 0.8774 - val_loss: 0.1416 - val_accuracy: 0.9688\n",
      "Epoch 24/100\n",
      "13/13 [==============================] - 1s 78ms/step - loss: 0.2684 - accuracy: 0.8774 - val_loss: 0.5225 - val_accuracy: 0.8750\n",
      "Epoch 25/100\n",
      "13/13 [==============================] - 1s 74ms/step - loss: 0.3510 - accuracy: 0.8702 - val_loss: 0.4915 - val_accuracy: 0.8438\n",
      "Epoch 26/100\n",
      "13/13 [==============================] - 1s 75ms/step - loss: 0.3084 - accuracy: 0.8870 - val_loss: 0.1729 - val_accuracy: 0.9375\n",
      "Epoch 27/100\n",
      "13/13 [==============================] - 1s 75ms/step - loss: 0.2692 - accuracy: 0.9038 - val_loss: 0.3513 - val_accuracy: 0.8438\n",
      "Epoch 28/100\n",
      "13/13 [==============================] - 1s 99ms/step - loss: 0.2907 - accuracy: 0.8846 - val_loss: 0.2331 - val_accuracy: 0.9062\n",
      "Epoch 29/100\n",
      "13/13 [==============================] - 1s 75ms/step - loss: 0.3588 - accuracy: 0.8486 - val_loss: 0.3457 - val_accuracy: 0.8750\n",
      "Epoch 30/100\n",
      "13/13 [==============================] - 1s 76ms/step - loss: 0.2789 - accuracy: 0.8966 - val_loss: 0.2906 - val_accuracy: 0.9062\n",
      "Epoch 31/100\n",
      "13/13 [==============================] - 1s 75ms/step - loss: 0.2671 - accuracy: 0.8870 - val_loss: 0.4083 - val_accuracy: 0.8750\n",
      "Epoch 32/100\n",
      "13/13 [==============================] - 1s 71ms/step - loss: 0.4046 - accuracy: 0.8293 - val_loss: 0.2155 - val_accuracy: 0.9062\n",
      "Epoch 33/100\n",
      "13/13 [==============================] - 1s 86ms/step - loss: 0.2937 - accuracy: 0.8750 - val_loss: 0.4119 - val_accuracy: 0.8125\n",
      "Epoch 34/100\n",
      "13/13 [==============================] - 1s 71ms/step - loss: 0.2789 - accuracy: 0.8774 - val_loss: 0.4043 - val_accuracy: 0.8438\n",
      "Epoch 35/100\n",
      "13/13 [==============================] - 1s 93ms/step - loss: 0.2953 - accuracy: 0.8822 - val_loss: 0.2753 - val_accuracy: 0.9375\n",
      "Epoch 36/100\n",
      "13/13 [==============================] - 1s 70ms/step - loss: 0.2507 - accuracy: 0.9111 - val_loss: 0.5230 - val_accuracy: 0.8750\n",
      "Epoch 37/100\n",
      "13/13 [==============================] - 1s 76ms/step - loss: 0.2780 - accuracy: 0.8846 - val_loss: 0.2154 - val_accuracy: 0.9062\n",
      "Epoch 38/100\n",
      "13/13 [==============================] - 1s 82ms/step - loss: 0.2371 - accuracy: 0.9062 - val_loss: 0.3083 - val_accuracy: 0.8750\n",
      "Epoch 39/100\n",
      "13/13 [==============================] - 1s 74ms/step - loss: 0.2947 - accuracy: 0.8942 - val_loss: 0.2268 - val_accuracy: 0.9375\n",
      "Epoch 40/100\n",
      "13/13 [==============================] - 1s 73ms/step - loss: 0.2276 - accuracy: 0.9062 - val_loss: 0.2558 - val_accuracy: 0.7812\n",
      "Epoch 41/100\n",
      "13/13 [==============================] - 1s 89ms/step - loss: 0.3013 - accuracy: 0.8822 - val_loss: 0.1201 - val_accuracy: 0.9688\n",
      "Epoch 42/100\n",
      "13/13 [==============================] - 1s 78ms/step - loss: 0.2449 - accuracy: 0.8942 - val_loss: 0.5198 - val_accuracy: 0.8750\n",
      "Epoch 43/100\n",
      "13/13 [==============================] - 1s 72ms/step - loss: 0.2898 - accuracy: 0.8822 - val_loss: 0.0915 - val_accuracy: 0.9688\n",
      "Epoch 44/100\n",
      "13/13 [==============================] - 1s 76ms/step - loss: 0.2676 - accuracy: 0.8894 - val_loss: 0.3096 - val_accuracy: 0.8125\n",
      "Epoch 45/100\n",
      "13/13 [==============================] - 1s 73ms/step - loss: 0.3001 - accuracy: 0.8942 - val_loss: 0.1464 - val_accuracy: 0.9688\n",
      "Epoch 46/100\n",
      "13/13 [==============================] - 1s 73ms/step - loss: 0.2255 - accuracy: 0.9231 - val_loss: 0.3031 - val_accuracy: 0.9062\n",
      "Epoch 47/100\n",
      "13/13 [==============================] - 1s 72ms/step - loss: 0.3141 - accuracy: 0.8894 - val_loss: 0.1755 - val_accuracy: 0.9688\n",
      "Epoch 48/100\n",
      "13/13 [==============================] - 1s 72ms/step - loss: 0.2497 - accuracy: 0.9111 - val_loss: 0.2186 - val_accuracy: 0.9375\n",
      "Epoch 49/100\n",
      "13/13 [==============================] - 1s 79ms/step - loss: 0.3166 - accuracy: 0.8798 - val_loss: 0.2777 - val_accuracy: 0.8438\n",
      "Epoch 50/100\n",
      "13/13 [==============================] - 1s 72ms/step - loss: 0.2900 - accuracy: 0.8918 - val_loss: 0.3700 - val_accuracy: 0.8438\n",
      "Epoch 51/100\n",
      "13/13 [==============================] - 1s 71ms/step - loss: 0.3485 - accuracy: 0.8726 - val_loss: 0.1329 - val_accuracy: 0.9688\n",
      "Epoch 52/100\n",
      "13/13 [==============================] - 1s 73ms/step - loss: 0.2914 - accuracy: 0.8894 - val_loss: 0.1053 - val_accuracy: 0.9688\n",
      "Epoch 53/100\n",
      "13/13 [==============================] - 1s 80ms/step - loss: 0.3201 - accuracy: 0.8654 - val_loss: 0.1735 - val_accuracy: 0.9375\n",
      "Epoch 54/100\n",
      "13/13 [==============================] - 1s 71ms/step - loss: 0.2421 - accuracy: 0.9038 - val_loss: 0.2353 - val_accuracy: 0.8750\n",
      "Epoch 55/100\n",
      "13/13 [==============================] - 1s 76ms/step - loss: 0.2402 - accuracy: 0.9038 - val_loss: 0.4300 - val_accuracy: 0.8750\n",
      "Epoch 56/100\n",
      "13/13 [==============================] - 1s 72ms/step - loss: 0.2061 - accuracy: 0.9351 - val_loss: 0.6346 - val_accuracy: 0.8438\n",
      "Epoch 57/100\n",
      "13/13 [==============================] - 1s 75ms/step - loss: 0.2731 - accuracy: 0.8964 - val_loss: 0.2221 - val_accuracy: 0.9062\n",
      "Epoch 58/100\n",
      "13/13 [==============================] - 1s 71ms/step - loss: 0.3077 - accuracy: 0.8846 - val_loss: 0.1711 - val_accuracy: 0.9375\n",
      "Epoch 59/100\n",
      "13/13 [==============================] - 1s 73ms/step - loss: 0.2493 - accuracy: 0.9135 - val_loss: 0.3493 - val_accuracy: 0.9062\n",
      "Epoch 60/100\n",
      "13/13 [==============================] - 1s 79ms/step - loss: 0.2872 - accuracy: 0.8870 - val_loss: 0.4273 - val_accuracy: 0.8438\n",
      "Epoch 61/100\n",
      "13/13 [==============================] - 1s 71ms/step - loss: 0.2696 - accuracy: 0.9014 - val_loss: 0.6740 - val_accuracy: 0.8125\n",
      "Epoch 62/100\n",
      "13/13 [==============================] - 1s 75ms/step - loss: 0.2559 - accuracy: 0.8894 - val_loss: 0.3222 - val_accuracy: 0.8750\n",
      "Epoch 63/100\n",
      "13/13 [==============================] - 1s 105ms/step - loss: 0.3581 - accuracy: 0.8678 - val_loss: 0.2377 - val_accuracy: 0.9062\n",
      "Epoch 64/100\n",
      "13/13 [==============================] - 1s 70ms/step - loss: 0.2587 - accuracy: 0.8990 - val_loss: 0.3486 - val_accuracy: 0.9062\n",
      "Epoch 65/100\n",
      "13/13 [==============================] - 1s 70ms/step - loss: 0.3065 - accuracy: 0.8798 - val_loss: 0.2339 - val_accuracy: 0.9375\n",
      "Epoch 66/100\n",
      "13/13 [==============================] - 1s 74ms/step - loss: 0.1981 - accuracy: 0.9159 - val_loss: 0.1968 - val_accuracy: 0.9375\n",
      "Epoch 67/100\n",
      "13/13 [==============================] - 1s 73ms/step - loss: 0.2259 - accuracy: 0.9207 - val_loss: 0.4143 - val_accuracy: 0.8125\n",
      "Epoch 68/100\n",
      "13/13 [==============================] - 1s 77ms/step - loss: 0.2868 - accuracy: 0.8726 - val_loss: 0.3072 - val_accuracy: 0.9062\n",
      "Epoch 69/100\n",
      "13/13 [==============================] - 1s 81ms/step - loss: 0.3088 - accuracy: 0.8774 - val_loss: 0.3371 - val_accuracy: 0.7812\n",
      "Epoch 70/100\n",
      "13/13 [==============================] - 1s 73ms/step - loss: 0.2842 - accuracy: 0.8942 - val_loss: 0.1314 - val_accuracy: 0.9062\n",
      "Epoch 71/100\n",
      "13/13 [==============================] - 1s 78ms/step - loss: 0.2931 - accuracy: 0.8894 - val_loss: 0.3299 - val_accuracy: 0.9062\n",
      "Epoch 72/100\n",
      "13/13 [==============================] - 1s 73ms/step - loss: 0.2363 - accuracy: 0.8990 - val_loss: 0.3324 - val_accuracy: 0.8125\n",
      "Epoch 73/100\n",
      "13/13 [==============================] - 1s 75ms/step - loss: 0.2706 - accuracy: 0.8942 - val_loss: 0.7739 - val_accuracy: 0.8125\n",
      "Epoch 74/100\n",
      "13/13 [==============================] - 1s 85ms/step - loss: 0.3123 - accuracy: 0.8918 - val_loss: 0.2394 - val_accuracy: 0.9062\n",
      "Epoch 75/100\n",
      "13/13 [==============================] - 1s 76ms/step - loss: 0.2143 - accuracy: 0.9207 - val_loss: 0.2889 - val_accuracy: 0.9062\n",
      "Epoch 76/100\n",
      "13/13 [==============================] - 1s 73ms/step - loss: 0.2391 - accuracy: 0.8966 - val_loss: 0.3648 - val_accuracy: 0.9062\n",
      "Epoch 77/100\n",
      "13/13 [==============================] - 1s 72ms/step - loss: 0.3066 - accuracy: 0.8870 - val_loss: 0.3150 - val_accuracy: 0.8438\n",
      "Epoch 78/100\n",
      "13/13 [==============================] - 1s 88ms/step - loss: 0.2625 - accuracy: 0.9062 - val_loss: 0.3815 - val_accuracy: 0.9062\n",
      "Epoch 79/100\n",
      "13/13 [==============================] - 1s 72ms/step - loss: 0.2814 - accuracy: 0.8918 - val_loss: 0.3041 - val_accuracy: 0.8750\n",
      "Epoch 80/100\n",
      "13/13 [==============================] - 1s 71ms/step - loss: 0.2116 - accuracy: 0.9207 - val_loss: 0.3483 - val_accuracy: 0.9062\n",
      "Epoch 81/100\n",
      "13/13 [==============================] - 1s 72ms/step - loss: 0.2746 - accuracy: 0.9159 - val_loss: 0.1585 - val_accuracy: 0.9062\n",
      "Epoch 82/100\n",
      "13/13 [==============================] - 1s 72ms/step - loss: 0.2401 - accuracy: 0.9135 - val_loss: 0.5137 - val_accuracy: 0.7812\n",
      "Epoch 83/100\n",
      "13/13 [==============================] - 1s 73ms/step - loss: 0.2700 - accuracy: 0.8990 - val_loss: 0.1089 - val_accuracy: 0.9688\n",
      "Epoch 84/100\n",
      "13/13 [==============================] - 1s 99ms/step - loss: 0.1883 - accuracy: 0.9375 - val_loss: 0.0876 - val_accuracy: 1.0000\n",
      "Epoch 85/100\n",
      "13/13 [==============================] - 1s 77ms/step - loss: 0.2793 - accuracy: 0.8822 - val_loss: 0.2038 - val_accuracy: 0.9375\n",
      "Epoch 86/100\n",
      "13/13 [==============================] - 1s 71ms/step - loss: 0.2386 - accuracy: 0.8990 - val_loss: 0.3124 - val_accuracy: 0.8438\n",
      "Epoch 87/100\n",
      "13/13 [==============================] - 1s 82ms/step - loss: 0.3547 - accuracy: 0.8702 - val_loss: 0.4186 - val_accuracy: 0.8750\n",
      "Epoch 88/100\n",
      "13/13 [==============================] - 1s 74ms/step - loss: 0.2110 - accuracy: 0.9111 - val_loss: 0.1121 - val_accuracy: 0.9688\n",
      "Epoch 89/100\n",
      "13/13 [==============================] - 1s 72ms/step - loss: 0.2142 - accuracy: 0.9183 - val_loss: 0.4826 - val_accuracy: 0.8750\n",
      "Epoch 90/100\n",
      "13/13 [==============================] - 1s 71ms/step - loss: 0.2691 - accuracy: 0.8846 - val_loss: 0.3631 - val_accuracy: 0.8750\n",
      "Epoch 91/100\n",
      "13/13 [==============================] - 1s 69ms/step - loss: 0.4670 - accuracy: 0.8290 - val_loss: 0.5170 - val_accuracy: 0.7812\n",
      "Epoch 92/100\n",
      "13/13 [==============================] - 1s 83ms/step - loss: 0.3755 - accuracy: 0.8606 - val_loss: 0.1132 - val_accuracy: 1.0000\n",
      "Epoch 93/100\n",
      "13/13 [==============================] - 1s 72ms/step - loss: 0.3012 - accuracy: 0.8870 - val_loss: 0.2936 - val_accuracy: 0.8750\n",
      "Epoch 94/100\n",
      "13/13 [==============================] - 1s 71ms/step - loss: 0.3165 - accuracy: 0.8822 - val_loss: 0.6134 - val_accuracy: 0.7812\n",
      "Epoch 95/100\n",
      "13/13 [==============================] - 1s 71ms/step - loss: 0.2744 - accuracy: 0.8966 - val_loss: 0.4336 - val_accuracy: 0.8125\n",
      "Epoch 96/100\n",
      "13/13 [==============================] - 1s 73ms/step - loss: 0.3014 - accuracy: 0.8750 - val_loss: 0.8183 - val_accuracy: 0.7188\n",
      "Epoch 97/100\n",
      "13/13 [==============================] - 1s 72ms/step - loss: 0.2917 - accuracy: 0.8846 - val_loss: 0.2731 - val_accuracy: 0.9375\n",
      "Epoch 98/100\n",
      "13/13 [==============================] - 1s 72ms/step - loss: 0.2703 - accuracy: 0.8894 - val_loss: 0.1368 - val_accuracy: 0.9688\n",
      "Epoch 99/100\n",
      "13/13 [==============================] - 1s 83ms/step - loss: 0.2877 - accuracy: 0.8774 - val_loss: 0.3621 - val_accuracy: 0.8125\n",
      "Epoch 100/100\n",
      "13/13 [==============================] - 1s 81ms/step - loss: 0.2802 - accuracy: 0.8894 - val_loss: 0.3351 - val_accuracy: 0.9062\n"
     ]
    }
   ],
   "source": [
    "history_do= model_do.fit(\n",
    "    train_generator,\n",
    "    steps_per_epoch=steps_per_epoch,\n",
    "    epochs= 100,\n",
    "    validation_data= val_generator,\n",
    "    validation_steps= validation_steps\n",
    ")"
   ],
   "metadata": {
    "collapsed": false,
    "ExecuteTime": {
     "end_time": "2024-03-12T20:54:34.341779Z",
     "start_time": "2024-03-12T20:52:50.231699Z"
    }
   },
   "execution_count": 64
  },
  {
   "cell_type": "code",
   "outputs": [
    {
     "data": {
      "text/plain": "<Figure size 640x480 with 1 Axes>",
      "image/png": "[encoded data removed]"
     },
     "metadata": {},
     "output_type": "display_data"
    },
    {
     "data": {
      "text/plain": "<Figure size 640x480 with 1 Axes>",
      "image/png": "[encoded data removed]"
     },
     "metadata": {},
     "output_type": "display_data"
    }
   ],
   "source": [
    "acc= history.history['accuracy']\n",
    "val_acc= history.history['val_accuracy']\n",
    "loss= history.history['loss']\n",
    "val_loss= history.history['val_loss']\n",
    "\n",
    "epochs = range(1, len(acc) + 1)\n",
    "\n",
    "plt.plot(epochs, acc, 'bo', label='Training acc')\n",
    "plt.plot(epochs, val_acc, 'b', label='Validation acc')\n",
    "plt.title('Training and validation accuracy')\n",
    "plt.legend()\n",
    "\n",
    "plt.figure()\n",
    "\n",
    "plt.plot(epochs, loss, 'bo', label='Training loss')\n",
    "plt.plot(epochs, val_loss, 'b', label='Validation loss')\n",
    "plt.title('Training and validation loss')\n",
    "plt.legend()\n",
    "\n",
    "plt.show()"
   ],
   "metadata": {
    "collapsed": false,
    "ExecuteTime": {
     "end_time": "2024-03-12T20:55:00.877494Z",
     "start_time": "2024-03-12T20:55:00.647126Z"
    }
   },
   "execution_count": 65
  },
  {
   "cell_type": "code",
   "outputs": [],
   "source": [
    "'"
   ],
   "metadata": {
    "collapsed": false
   }
  }
 ],
 "metadata": {
  "kernelspec": {
   "display_name": "Python 3",
   "language": "python",
   "name": "python3"
  },
  "language_info": {
   "codemirror_mode": {
    "name": "ipython",
    "version": 2
   },
   "file_extension": ".py",
   "mimetype": "text/x-python",
   "name": "python",
   "nbconvert_exporter": "python",
   "pygments_lexer": "ipython2",
   "version": "2.7.6"
  }
 },
 "nbformat": 4,
 "nbformat_minor": 0
}
